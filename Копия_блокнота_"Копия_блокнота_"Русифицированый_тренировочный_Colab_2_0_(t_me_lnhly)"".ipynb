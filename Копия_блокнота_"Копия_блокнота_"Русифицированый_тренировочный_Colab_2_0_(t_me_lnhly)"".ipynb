{
  "cells": [
    {
      "cell_type": "markdown",
      "metadata": {
        "id": "view-in-github",
        "colab_type": "text"
      },
      "source": [
        "<a href=\"https://colab.research.google.com/github/thefry01/RepoSonFromDmitry/blob/master/%D0%9A%D0%BE%D0%BF%D0%B8%D1%8F_%D0%B1%D0%BB%D0%BE%D0%BA%D0%BD%D0%BE%D1%82%D0%B0_%22%D0%9A%D0%BE%D0%BF%D0%B8%D1%8F_%D0%B1%D0%BB%D0%BE%D0%BA%D0%BD%D0%BE%D1%82%D0%B0_%22%D0%A0%D1%83%D1%81%D0%B8%D1%84%D0%B8%D1%86%D0%B8%D1%80%D0%BE%D0%B2%D0%B0%D0%BD%D1%8B%D0%B9_%D1%82%D1%80%D0%B5%D0%BD%D0%B8%D1%80%D0%BE%D0%B2%D0%BE%D1%87%D0%BD%D1%8B%D0%B9_Colab_2_0_(t_me_lnhly)%22%22.ipynb\" target=\"_parent\"><img src=\"https://colab.research.google.com/assets/colab-badge.svg\" alt=\"Open In Colab\"/></a>"
      ]
    },
    {
      "cell_type": "markdown",
      "metadata": {
        "id": "326SMUINStvn"
      },
      "source": [
        "**Русифицированный Colab от [lunnaholy](https://t.me/lnhly)**"
      ]
    },
    {
      "cell_type": "markdown",
      "metadata": {
        "id": "UsDpqZG0TE7v"
      },
      "source": [
        "Колаб для генерации вокала: [тык](https://colab.research.google.com/drive/1o1gtZ5djnuYjFhAPx06CZyESkW9Ofk9P)"
      ]
    },
    {
      "cell_type": "markdown",
      "metadata": {
        "id": "6ulqyylzXilu"
      },
      "source": [
        "# Первоначальная настройка"
      ]
    },
    {
      "cell_type": "code",
      "execution_count": null,
      "metadata": {
        "colab": {
          "base_uri": "https://localhost:8080/"
        },
        "id": "LS0OPRkL4Pme",
        "outputId": "f8d93966-31df-467c-8787-2ab76db447c4"
      },
      "outputs": [
        {
          "output_type": "stream",
          "name": "stdout",
          "text": [
            "Cloning into 'so-vits-svc'...\n",
            "remote: Enumerating objects: 1747, done.\u001b[K\n",
            "remote: Counting objects: 100% (396/396), done.\u001b[K\n",
            "remote: Compressing objects: 100% (224/224), done.\u001b[K\n",
            "remote: Total 1747 (delta 181), reused 355 (delta 167), pack-reused 1351\u001b[K\n",
            "Receiving objects: 100% (1747/1747), 35.73 MiB | 23.91 MiB/s, done.\n",
            "Resolving deltas: 100% (913/913), done.\n",
            "/content/so-vits-svc\n",
            "Looking in indexes: https://pypi.org/simple, https://us-python.pkg.dev/colab-wheels/public/simple/\n",
            "Collecting pyworld\n",
            "  Downloading pyworld-0.3.3.tar.gz (218 kB)\n",
            "\u001b[2K     \u001b[90m━━━━━━━━━━━━━━━━━━━━━━━━━━━━━━━━━━━━━━━\u001b[0m \u001b[32m218.7/218.7 kB\u001b[0m \u001b[31m9.8 MB/s\u001b[0m eta \u001b[36m0:00:00\u001b[0m\n",
            "\u001b[?25h  Installing build dependencies ... \u001b[?25l\u001b[?25hdone\n",
            "  Getting requirements to build wheel ... \u001b[?25l\u001b[?25hdone\n",
            "  Preparing metadata (pyproject.toml) ... \u001b[?25l\u001b[?25hdone\n",
            "Collecting praat-parselmouth\n",
            "  Downloading praat_parselmouth-0.4.3-cp310-cp310-manylinux_2_12_x86_64.manylinux2010_x86_64.whl (10.7 MB)\n",
            "\u001b[2K     \u001b[90m━━━━━━━━━━━━━━━━━━━━━━━━━━━━━━━━━━━━━━━━\u001b[0m \u001b[32m10.7/10.7 MB\u001b[0m \u001b[31m60.4 MB/s\u001b[0m eta \u001b[36m0:00:00\u001b[0m\n",
            "\u001b[?25hRequirement already satisfied: numpy in /usr/local/lib/python3.10/dist-packages (from pyworld) (1.22.4)\n",
            "Requirement already satisfied: cython>=0.24 in /usr/local/lib/python3.10/dist-packages (from pyworld) (0.29.34)\n",
            "Building wheels for collected packages: pyworld\n",
            "  Building wheel for pyworld (pyproject.toml) ... \u001b[?25l\u001b[?25hdone\n",
            "  Created wheel for pyworld: filename=pyworld-0.3.3-cp310-cp310-linux_x86_64.whl size=887700 sha256=2a26ae13126b709a953456c6a2c1a345afec2c936f709e6cb092959f01056a5d\n",
            "  Stored in directory: /root/.cache/pip/wheels/70/50/a9/36b47c7f055bbee666a2b5718aaf85bce2152ef90f9bd10697\n",
            "Successfully built pyworld\n",
            "Installing collected packages: pyworld, praat-parselmouth\n",
            "Successfully installed praat-parselmouth-0.4.3 pyworld-0.3.3\n",
            "Looking in indexes: https://pypi.org/simple, https://us-python.pkg.dev/colab-wheels/public/simple/\n",
            "Requirement already satisfied: pip in /usr/local/lib/python3.10/dist-packages (23.0.1)\n",
            "Collecting pip\n",
            "  Downloading pip-23.1.2-py3-none-any.whl (2.1 MB)\n",
            "\u001b[2K     \u001b[90m━━━━━━━━━━━━━━━━━━━━━━━━━━━━━━━━━━━━━━━━\u001b[0m \u001b[32m2.1/2.1 MB\u001b[0m \u001b[31m55.1 MB/s\u001b[0m eta \u001b[36m0:00:00\u001b[0m\n",
            "\u001b[?25hInstalling collected packages: pip\n",
            "  Attempting uninstall: pip\n",
            "    Found existing installation: pip 23.0.1\n",
            "    Uninstalling pip-23.0.1:\n",
            "      Successfully uninstalled pip-23.0.1\n",
            "Successfully installed pip-23.1.2\n",
            "Looking in indexes: https://pypi.org/simple, https://us-python.pkg.dev/colab-wheels/public/simple/\n",
            "Collecting fairseq==0.12.2\n",
            "  Downloading fairseq-0.12.2.tar.gz (9.6 MB)\n",
            "\u001b[2K     \u001b[90m━━━━━━━━━━━━━━━━━━━━━━━━━━━━━━━━━━━━━━━━\u001b[0m \u001b[32m9.6/9.6 MB\u001b[0m \u001b[31m90.3 MB/s\u001b[0m eta \u001b[36m0:00:00\u001b[0m\n",
            "\u001b[?25h  Installing build dependencies ... \u001b[?25l\u001b[?25hdone\n",
            "  Getting requirements to build wheel ... \u001b[?25l\u001b[?25hdone\n",
            "  Installing backend dependencies ... \u001b[?25l\u001b[?25hdone\n",
            "  Preparing metadata (pyproject.toml) ... \u001b[?25l\u001b[?25hdone\n",
            "Collecting librosa==0.8.1\n",
            "  Downloading librosa-0.8.1-py3-none-any.whl (203 kB)\n",
            "\u001b[2K     \u001b[90m━━━━━━━━━━━━━━━━━━━━━━━━━━━━━━━━━━━━━━\u001b[0m \u001b[32m203.8/203.8 kB\u001b[0m \u001b[31m19.8 MB/s\u001b[0m eta \u001b[36m0:00:00\u001b[0m\n",
            "\u001b[?25hCollecting numpy==1.23.5\n",
            "  Downloading numpy-1.23.5-cp310-cp310-manylinux_2_17_x86_64.manylinux2014_x86_64.whl (17.1 MB)\n",
            "\u001b[2K     \u001b[90m━━━━━━━━━━━━━━━━━━━━━━━━━━━━━━━━━━━━━━━━\u001b[0m \u001b[32m17.1/17.1 MB\u001b[0m \u001b[31m25.0 MB/s\u001b[0m eta \u001b[36m0:00:00\u001b[0m\n",
            "\u001b[?25hRequirement already satisfied: cffi in /usr/local/lib/python3.10/dist-packages (from fairseq==0.12.2) (1.15.1)\n",
            "Requirement already satisfied: cython in /usr/local/lib/python3.10/dist-packages (from fairseq==0.12.2) (0.29.34)\n",
            "Collecting hydra-core<1.1,>=1.0.7 (from fairseq==0.12.2)\n",
            "  Downloading hydra_core-1.0.7-py3-none-any.whl (123 kB)\n",
            "\u001b[2K     \u001b[90m━━━━━━━━━━━━━━━━━━━━━━━━━━━━━━━━━━━━━━\u001b[0m \u001b[32m123.8/123.8 kB\u001b[0m \u001b[31m15.1 MB/s\u001b[0m eta \u001b[36m0:00:00\u001b[0m\n",
            "\u001b[?25hCollecting omegaconf<2.1 (from fairseq==0.12.2)\n",
            "  Downloading omegaconf-2.0.6-py3-none-any.whl (36 kB)\n",
            "Requirement already satisfied: regex in /usr/local/lib/python3.10/dist-packages (from fairseq==0.12.2) (2022.10.31)\n",
            "Collecting sacrebleu>=1.4.12 (from fairseq==0.12.2)\n",
            "  Downloading sacrebleu-2.3.1-py3-none-any.whl (118 kB)\n",
            "\u001b[2K     \u001b[90m━━━━━━━━━━━━━━━━━━━━━━━━━━━━━━━━━━━━━━━\u001b[0m \u001b[32m118.9/118.9 kB\u001b[0m \u001b[31m8.7 MB/s\u001b[0m eta \u001b[36m0:00:00\u001b[0m\n",
            "\u001b[?25hRequirement already satisfied: torch in /usr/local/lib/python3.10/dist-packages (from fairseq==0.12.2) (2.0.0+cu118)\n",
            "Requirement already satisfied: tqdm in /usr/local/lib/python3.10/dist-packages (from fairseq==0.12.2) (4.65.0)\n",
            "Collecting bitarray (from fairseq==0.12.2)\n",
            "  Downloading bitarray-2.7.3-cp310-cp310-manylinux_2_17_x86_64.manylinux2014_x86_64.whl (272 kB)\n",
            "\u001b[2K     \u001b[90m━━━━━━━━━━━━━━━━━━━━━━━━━━━━━━━━━━━━━━\u001b[0m \u001b[32m272.7/272.7 kB\u001b[0m \u001b[31m23.9 MB/s\u001b[0m eta \u001b[36m0:00:00\u001b[0m\n",
            "\u001b[?25hRequirement already satisfied: torchaudio>=0.8.0 in /usr/local/lib/python3.10/dist-packages (from fairseq==0.12.2) (2.0.1+cu118)\n",
            "Requirement already satisfied: audioread>=2.0.0 in /usr/local/lib/python3.10/dist-packages (from librosa==0.8.1) (3.0.0)\n",
            "Requirement already satisfied: scipy>=1.0.0 in /usr/local/lib/python3.10/dist-packages (from librosa==0.8.1) (1.10.1)\n",
            "Requirement already satisfied: scikit-learn!=0.19.0,>=0.14.0 in /usr/local/lib/python3.10/dist-packages (from librosa==0.8.1) (1.2.2)\n",
            "Requirement already satisfied: joblib>=0.14 in /usr/local/lib/python3.10/dist-packages (from librosa==0.8.1) (1.2.0)\n",
            "Requirement already satisfied: decorator>=3.0.0 in /usr/local/lib/python3.10/dist-packages (from librosa==0.8.1) (4.4.2)\n",
            "Collecting resampy>=0.2.2 (from librosa==0.8.1)\n",
            "  Downloading resampy-0.4.2-py3-none-any.whl (3.1 MB)\n",
            "\u001b[2K     \u001b[90m━━━━━━━━━━━━━━━━━━━━━━━━━━━━━━━━━━━━━━━━\u001b[0m \u001b[32m3.1/3.1 MB\u001b[0m \u001b[31m63.3 MB/s\u001b[0m eta \u001b[36m0:00:00\u001b[0m\n",
            "\u001b[?25hRequirement already satisfied: numba>=0.43.0 in /usr/local/lib/python3.10/dist-packages (from librosa==0.8.1) (0.56.4)\n",
            "Requirement already satisfied: soundfile>=0.10.2 in /usr/local/lib/python3.10/dist-packages (from librosa==0.8.1) (0.12.1)\n",
            "Requirement already satisfied: pooch>=1.0 in /usr/local/lib/python3.10/dist-packages (from librosa==0.8.1) (1.6.0)\n",
            "Requirement already satisfied: packaging>=20.0 in /usr/local/lib/python3.10/dist-packages (from librosa==0.8.1) (23.1)\n",
            "Collecting antlr4-python3-runtime==4.8 (from hydra-core<1.1,>=1.0.7->fairseq==0.12.2)\n",
            "  Downloading antlr4-python3-runtime-4.8.tar.gz (112 kB)\n",
            "\u001b[2K     \u001b[90m━━━━━━━━━━━━━━━━━━━━━━━━━━━━━━━━━━━━━━\u001b[0m \u001b[32m112.4/112.4 kB\u001b[0m \u001b[31m10.0 MB/s\u001b[0m eta \u001b[36m0:00:00\u001b[0m\n",
            "\u001b[?25h  Preparing metadata (setup.py) ... \u001b[?25l\u001b[?25hdone\n",
            "Requirement already satisfied: llvmlite<0.40,>=0.39.0dev0 in /usr/local/lib/python3.10/dist-packages (from numba>=0.43.0->librosa==0.8.1) (0.39.1)\n",
            "Requirement already satisfied: setuptools in /usr/local/lib/python3.10/dist-packages (from numba>=0.43.0->librosa==0.8.1) (67.7.2)\n",
            "Requirement already satisfied: PyYAML>=5.1.* in /usr/local/lib/python3.10/dist-packages (from omegaconf<2.1->fairseq==0.12.2) (6.0)\n",
            "Requirement already satisfied: typing-extensions in /usr/local/lib/python3.10/dist-packages (from omegaconf<2.1->fairseq==0.12.2) (4.5.0)\n",
            "Requirement already satisfied: appdirs>=1.3.0 in /usr/local/lib/python3.10/dist-packages (from pooch>=1.0->librosa==0.8.1) (1.4.4)\n",
            "Requirement already satisfied: requests>=2.19.0 in /usr/local/lib/python3.10/dist-packages (from pooch>=1.0->librosa==0.8.1) (2.27.1)\n",
            "Collecting portalocker (from sacrebleu>=1.4.12->fairseq==0.12.2)\n",
            "  Downloading portalocker-2.7.0-py2.py3-none-any.whl (15 kB)\n",
            "Requirement already satisfied: tabulate>=0.8.9 in /usr/local/lib/python3.10/dist-packages (from sacrebleu>=1.4.12->fairseq==0.12.2) (0.8.10)\n",
            "Collecting colorama (from sacrebleu>=1.4.12->fairseq==0.12.2)\n",
            "  Downloading colorama-0.4.6-py2.py3-none-any.whl (25 kB)\n",
            "Requirement already satisfied: lxml in /usr/local/lib/python3.10/dist-packages (from sacrebleu>=1.4.12->fairseq==0.12.2) (4.9.2)\n",
            "Requirement already satisfied: threadpoolctl>=2.0.0 in /usr/local/lib/python3.10/dist-packages (from scikit-learn!=0.19.0,>=0.14.0->librosa==0.8.1) (3.1.0)\n",
            "Requirement already satisfied: pycparser in /usr/local/lib/python3.10/dist-packages (from cffi->fairseq==0.12.2) (2.21)\n",
            "Requirement already satisfied: filelock in /usr/local/lib/python3.10/dist-packages (from torch->fairseq==0.12.2) (3.12.0)\n",
            "Requirement already satisfied: sympy in /usr/local/lib/python3.10/dist-packages (from torch->fairseq==0.12.2) (1.11.1)\n",
            "Requirement already satisfied: networkx in /usr/local/lib/python3.10/dist-packages (from torch->fairseq==0.12.2) (3.1)\n",
            "Requirement already satisfied: jinja2 in /usr/local/lib/python3.10/dist-packages (from torch->fairseq==0.12.2) (3.1.2)\n",
            "Requirement already satisfied: triton==2.0.0 in /usr/local/lib/python3.10/dist-packages (from torch->fairseq==0.12.2) (2.0.0)\n",
            "Requirement already satisfied: cmake in /usr/local/lib/python3.10/dist-packages (from triton==2.0.0->torch->fairseq==0.12.2) (3.25.2)\n",
            "Requirement already satisfied: lit in /usr/local/lib/python3.10/dist-packages (from triton==2.0.0->torch->fairseq==0.12.2) (16.0.2)\n",
            "Requirement already satisfied: urllib3<1.27,>=1.21.1 in /usr/local/lib/python3.10/dist-packages (from requests>=2.19.0->pooch>=1.0->librosa==0.8.1) (1.26.15)\n",
            "Requirement already satisfied: certifi>=2017.4.17 in /usr/local/lib/python3.10/dist-packages (from requests>=2.19.0->pooch>=1.0->librosa==0.8.1) (2022.12.7)\n",
            "Requirement already satisfied: charset-normalizer~=2.0.0 in /usr/local/lib/python3.10/dist-packages (from requests>=2.19.0->pooch>=1.0->librosa==0.8.1) (2.0.12)\n",
            "Requirement already satisfied: idna<4,>=2.5 in /usr/local/lib/python3.10/dist-packages (from requests>=2.19.0->pooch>=1.0->librosa==0.8.1) (3.4)\n",
            "Requirement already satisfied: MarkupSafe>=2.0 in /usr/local/lib/python3.10/dist-packages (from jinja2->torch->fairseq==0.12.2) (2.1.2)\n",
            "Requirement already satisfied: mpmath>=0.19 in /usr/local/lib/python3.10/dist-packages (from sympy->torch->fairseq==0.12.2) (1.3.0)\n",
            "Building wheels for collected packages: fairseq, antlr4-python3-runtime\n",
            "  Building wheel for fairseq (pyproject.toml) ... \u001b[?25l\u001b[?25hdone\n",
            "  Created wheel for fairseq: filename=fairseq-0.12.2-cp310-cp310-linux_x86_64.whl size=11170697 sha256=8e4ef1b2034af6fe2d87fa97b5b37dafb4160fc389da35990781b73011b8ed25\n",
            "  Stored in directory: /root/.cache/pip/wheels/e4/35/55/9c66f65ec7c83fd6fbc2b9502a0ac81b2448a1196159dacc32\n",
            "  Building wheel for antlr4-python3-runtime (setup.py) ... \u001b[?25l\u001b[?25hdone\n",
            "  Created wheel for antlr4-python3-runtime: filename=antlr4_python3_runtime-4.8-py3-none-any.whl size=141229 sha256=b217a3b6f1ee7909df6210894f696070c9a2ecc496bc303aa05109cab58bad5a\n",
            "  Stored in directory: /root/.cache/pip/wheels/a7/20/bd/e1477d664f22d99989fd28ee1a43d6633dddb5cb9e801350d5\n",
            "Successfully built fairseq antlr4-python3-runtime\n",
            "Installing collected packages: bitarray, antlr4-python3-runtime, portalocker, omegaconf, numpy, colorama, sacrebleu, hydra-core, resampy, librosa, fairseq\n",
            "  Attempting uninstall: numpy\n",
            "    Found existing installation: numpy 1.22.4\n",
            "    Uninstalling numpy-1.22.4:\n",
            "      Successfully uninstalled numpy-1.22.4\n",
            "  Attempting uninstall: librosa\n",
            "    Found existing installation: librosa 0.10.0.post2\n",
            "    Uninstalling librosa-0.10.0.post2:\n",
            "      Successfully uninstalled librosa-0.10.0.post2\n",
            "Successfully installed antlr4-python3-runtime-4.8 bitarray-2.7.3 colorama-0.4.6 fairseq-0.12.2 hydra-core-1.0.7 librosa-0.8.1 numpy-1.23.5 omegaconf-2.0.6 portalocker-2.7.0 resampy-0.4.2 sacrebleu-2.3.1\n",
            "\u001b[33mWARNING: Running pip as the 'root' user can result in broken permissions and conflicting behaviour with the system package manager. It is recommended to use a virtual environment instead: https://pip.pypa.io/warnings/venv\u001b[0m\u001b[33m\n",
            "\u001b[0m"
          ]
        },
        {
          "output_type": "display_data",
          "data": {
            "application/vnd.colab-display-data+json": {
              "pip_warning": {
                "packages": [
                  "numpy"
                ]
              }
            }
          },
          "metadata": {}
        },
        {
          "output_type": "stream",
          "name": "stdout",
          "text": [
            "--2023-04-30 08:59:41--  https://huggingface.co/therealvul/so-vits-svc-4.0-init/resolve/main/checkpoint_best_legacy_500.pt\n",
            "Resolving huggingface.co (huggingface.co)... 108.138.64.67, 108.138.64.89, 108.138.64.127, ...\n",
            "Connecting to huggingface.co (huggingface.co)|108.138.64.67|:443... connected.\n",
            "HTTP request sent, awaiting response... 302 Found\n",
            "Location: https://cdn-lfs.huggingface.co/repos/c7/21/c7214c5855c8c13ab3ad357ebc651593e9ca56b492469e678bdbda597a830f99/60d936ec5a566776fc392e69ad8b630d14eb588111233fe313436e200a7b187b?response-content-disposition=attachment%3B+filename*%3DUTF-8%27%27checkpoint_best_legacy_500.pt%3B+filename%3D%22checkpoint_best_legacy_500.pt%22%3B&Expires=1683104162&Policy=eyJTdGF0ZW1lbnQiOlt7IlJlc291cmNlIjoiaHR0cHM6Ly9jZG4tbGZzLmh1Z2dpbmdmYWNlLmNvL3JlcG9zL2M3LzIxL2M3MjE0YzU4NTVjOGMxM2FiM2FkMzU3ZWJjNjUxNTkzZTljYTU2YjQ5MjQ2OWU2NzhiZGJkYTU5N2E4MzBmOTkvNjBkOTM2ZWM1YTU2Njc3NmZjMzkyZTY5YWQ4YjYzMGQxNGViNTg4MTExMjMzZmUzMTM0MzZlMjAwYTdiMTg3Yj9yZXNwb25zZS1jb250ZW50LWRpc3Bvc2l0aW9uPSoiLCJDb25kaXRpb24iOnsiRGF0ZUxlc3NUaGFuIjp7IkFXUzpFcG9jaFRpbWUiOjE2ODMxMDQxNjJ9fX1dfQ__&Signature=X7kyzUTSaNC1l8lUg8hH8kirx2JY5PcNiXBb3r90lZwrGldGmQEuNjmttIuBdkPoMbHLTsHHUFmrWcEq0IxU98XjweGuPI%7EVxH67TqCi%7E%7ErxUnrPbx-XQ9ocz2A9HBzIJ4G5iMHBGNu%7Ev2pR1sOC2unslBg9Z5ow5WOiWKPSUevNQ0HjHxUwif15xvsKu1w4WQkm7wiMYUSVewUGR1-Sk%7EZvoeJb6pE2jy3emESbrYRRnc93yx76B6%7EusrKEruVK1esqc3NO6X%7E96PQ4cwz7IZYj75wuHtqsohQBvZMR7h7SJc1IWdKrB8aAD3xUV23TWWAJHKudqsCsUxYLB%7E72gg__&Key-Pair-Id=KVTP0A1DKRTAX [following]\n",
            "--2023-04-30 08:59:41--  https://cdn-lfs.huggingface.co/repos/c7/21/c7214c5855c8c13ab3ad357ebc651593e9ca56b492469e678bdbda597a830f99/60d936ec5a566776fc392e69ad8b630d14eb588111233fe313436e200a7b187b?response-content-disposition=attachment%3B+filename*%3DUTF-8%27%27checkpoint_best_legacy_500.pt%3B+filename%3D%22checkpoint_best_legacy_500.pt%22%3B&Expires=1683104162&Policy=eyJTdGF0ZW1lbnQiOlt7IlJlc291cmNlIjoiaHR0cHM6Ly9jZG4tbGZzLmh1Z2dpbmdmYWNlLmNvL3JlcG9zL2M3LzIxL2M3MjE0YzU4NTVjOGMxM2FiM2FkMzU3ZWJjNjUxNTkzZTljYTU2YjQ5MjQ2OWU2NzhiZGJkYTU5N2E4MzBmOTkvNjBkOTM2ZWM1YTU2Njc3NmZjMzkyZTY5YWQ4YjYzMGQxNGViNTg4MTExMjMzZmUzMTM0MzZlMjAwYTdiMTg3Yj9yZXNwb25zZS1jb250ZW50LWRpc3Bvc2l0aW9uPSoiLCJDb25kaXRpb24iOnsiRGF0ZUxlc3NUaGFuIjp7IkFXUzpFcG9jaFRpbWUiOjE2ODMxMDQxNjJ9fX1dfQ__&Signature=X7kyzUTSaNC1l8lUg8hH8kirx2JY5PcNiXBb3r90lZwrGldGmQEuNjmttIuBdkPoMbHLTsHHUFmrWcEq0IxU98XjweGuPI%7EVxH67TqCi%7E%7ErxUnrPbx-XQ9ocz2A9HBzIJ4G5iMHBGNu%7Ev2pR1sOC2unslBg9Z5ow5WOiWKPSUevNQ0HjHxUwif15xvsKu1w4WQkm7wiMYUSVewUGR1-Sk%7EZvoeJb6pE2jy3emESbrYRRnc93yx76B6%7EusrKEruVK1esqc3NO6X%7E96PQ4cwz7IZYj75wuHtqsohQBvZMR7h7SJc1IWdKrB8aAD3xUV23TWWAJHKudqsCsUxYLB%7E72gg__&Key-Pair-Id=KVTP0A1DKRTAX\n",
            "Resolving cdn-lfs.huggingface.co (cdn-lfs.huggingface.co)... 108.138.64.111, 108.138.64.49, 108.138.64.36, ...\n",
            "Connecting to cdn-lfs.huggingface.co (cdn-lfs.huggingface.co)|108.138.64.111|:443... connected.\n",
            "HTTP request sent, awaiting response... 200 OK\n",
            "Length: 1330114945 (1.2G) [binary/octet-stream]\n",
            "Saving to: ‘hubert/checkpoint_best_legacy_500.pt’\n",
            "\n",
            "checkpoint_best_leg 100%[===================>]   1.24G   236MB/s    in 5.3s    \n",
            "\n",
            "2023-04-30 08:59:47 (240 MB/s) - ‘hubert/checkpoint_best_legacy_500.pt’ saved [1330114945/1330114945]\n",
            "\n"
          ]
        }
      ],
      "source": [
        "#@title Установка зависимостей\n",
        "!git clone https://github.com/effusiveperiscope/so-vits-svc -b eff-4.0\n",
        "\n",
        "%cd /content/so-vits-svc\n",
        "!pip install pyworld praat-parselmouth\n",
        "!python -m pip install --upgrade pip\n",
        "!pip install fairseq==0.12.2 librosa==0.8.1 numpy==1.23.5\n",
        "!wget -P hubert/ https://huggingface.co/therealvul/so-vits-svc-4.0-init/resolve/main/checkpoint_best_legacy_500.pt"
      ]
    },
    {
      "cell_type": "code",
      "execution_count": null,
      "metadata": {
        "cellView": "form",
        "colab": {
          "base_uri": "https://localhost:8080/"
        },
        "id": "wmUkpUmfn_Hs",
        "outputId": "1e34e0b3-114f-47ea-aa0e-0a92f6011142"
      },
      "outputs": [
        {
          "output_type": "stream",
          "name": "stdout",
          "text": [
            "Mounted at /content/drive\n"
          ]
        }
      ],
      "source": [
        "#@title Подсоединение Google Диска\n",
        "from google.colab import drive\n",
        "drive.mount('/content/drive')"
      ]
    },
    {
      "cell_type": "markdown",
      "metadata": {
        "id": "k1qadJBFehMo"
      },
      "source": [
        "# Обработка датасета\n",
        "\n",
        "Можете пропустить этот раздел, если вы уже имеете модель и хотите продолжить тренировку."
      ]
    },
    {
      "cell_type": "code",
      "execution_count": null,
      "metadata": {
        "cellView": "form",
        "colab": {
          "base_uri": "https://localhost:8080/"
        },
        "id": "U05CXlAipvJR",
        "outputId": "1392dff1-756c-49ab-b8dc-ad6b72c032d0"
      },
      "outputs": [
        {
          "output_type": "stream",
          "name": "stdout",
          "text": [
            "Archive:  /content/drive/MyDrive/dataset2/lol.zip\n",
            "   creating: /content/so-vits-svc/dataset_raw/lol/\n",
            "  inflating: /content/so-vits-svc/dataset_raw/lol/untitled - Track 1.wav  \n",
            "  inflating: /content/so-vits-svc/dataset_raw/lol/untitled - Track 10.wav  \n",
            "  inflating: /content/so-vits-svc/dataset_raw/lol/untitled - Track 11.wav  \n",
            "  inflating: /content/so-vits-svc/dataset_raw/lol/untitled - Track 12.wav  \n",
            "  inflating: /content/so-vits-svc/dataset_raw/lol/untitled - Track 13.wav  \n",
            "  inflating: /content/so-vits-svc/dataset_raw/lol/untitled - Track 14.wav  \n",
            "  inflating: /content/so-vits-svc/dataset_raw/lol/untitled - Track 15.wav  \n",
            "  inflating: /content/so-vits-svc/dataset_raw/lol/untitled - Track 16.wav  \n",
            "  inflating: /content/so-vits-svc/dataset_raw/lol/untitled - Track 17.wav  \n",
            "  inflating: /content/so-vits-svc/dataset_raw/lol/untitled - Track 18.wav  \n",
            "  inflating: /content/so-vits-svc/dataset_raw/lol/untitled - Track 19.wav  \n",
            "  inflating: /content/so-vits-svc/dataset_raw/lol/untitled - Track 2.wav  \n",
            "  inflating: /content/so-vits-svc/dataset_raw/lol/untitled - Track 20.wav  \n",
            "  inflating: /content/so-vits-svc/dataset_raw/lol/untitled - Track 21.wav  \n",
            "  inflating: /content/so-vits-svc/dataset_raw/lol/untitled - Track 22.wav  \n",
            "  inflating: /content/so-vits-svc/dataset_raw/lol/untitled - Track 23.wav  \n",
            "  inflating: /content/so-vits-svc/dataset_raw/lol/untitled - Track 24.wav  \n",
            "  inflating: /content/so-vits-svc/dataset_raw/lol/untitled - Track 25.wav  \n",
            "  inflating: /content/so-vits-svc/dataset_raw/lol/untitled - Track 26.wav  \n",
            "  inflating: /content/so-vits-svc/dataset_raw/lol/untitled - Track 27.wav  \n",
            "  inflating: /content/so-vits-svc/dataset_raw/lol/untitled - Track 28.wav  \n",
            "  inflating: /content/so-vits-svc/dataset_raw/lol/untitled - Track 29.wav  \n",
            "  inflating: /content/so-vits-svc/dataset_raw/lol/untitled - Track 3.wav  \n",
            "  inflating: /content/so-vits-svc/dataset_raw/lol/untitled - Track 30.wav  \n",
            "  inflating: /content/so-vits-svc/dataset_raw/lol/untitled - Track 31.wav  \n",
            "  inflating: /content/so-vits-svc/dataset_raw/lol/untitled - Track 32.wav  \n",
            "  inflating: /content/so-vits-svc/dataset_raw/lol/untitled - Track 33.wav  \n",
            "  inflating: /content/so-vits-svc/dataset_raw/lol/untitled - Track 34.wav  \n",
            "  inflating: /content/so-vits-svc/dataset_raw/lol/untitled - Track 35.wav  \n",
            "  inflating: /content/so-vits-svc/dataset_raw/lol/untitled - Track 36.wav  \n",
            "  inflating: /content/so-vits-svc/dataset_raw/lol/untitled - Track 37.wav  \n",
            "  inflating: /content/so-vits-svc/dataset_raw/lol/untitled - Track 38.wav  \n",
            "  inflating: /content/so-vits-svc/dataset_raw/lol/untitled - Track 39.wav  \n",
            "  inflating: /content/so-vits-svc/dataset_raw/lol/untitled - Track 4.wav  \n",
            "  inflating: /content/so-vits-svc/dataset_raw/lol/untitled - Track 40.wav  \n",
            "  inflating: /content/so-vits-svc/dataset_raw/lol/untitled - Track 41.wav  \n",
            "  inflating: /content/so-vits-svc/dataset_raw/lol/untitled - Track 42.wav  \n",
            "  inflating: /content/so-vits-svc/dataset_raw/lol/untitled - Track 43.wav  \n",
            "  inflating: /content/so-vits-svc/dataset_raw/lol/untitled - Track 44.wav  \n",
            "  inflating: /content/so-vits-svc/dataset_raw/lol/untitled - Track 45.wav  \n",
            "  inflating: /content/so-vits-svc/dataset_raw/lol/untitled - Track 46.wav  \n",
            "  inflating: /content/so-vits-svc/dataset_raw/lol/untitled - Track 47.wav  \n",
            "  inflating: /content/so-vits-svc/dataset_raw/lol/untitled - Track 48.wav  \n",
            "  inflating: /content/so-vits-svc/dataset_raw/lol/untitled - Track 49.wav  \n",
            "  inflating: /content/so-vits-svc/dataset_raw/lol/untitled - Track 5.wav  \n",
            "  inflating: /content/so-vits-svc/dataset_raw/lol/untitled - Track 50.wav  \n",
            "  inflating: /content/so-vits-svc/dataset_raw/lol/untitled - Track 51.wav  \n",
            "  inflating: /content/so-vits-svc/dataset_raw/lol/untitled - Track 52.wav  \n",
            "  inflating: /content/so-vits-svc/dataset_raw/lol/untitled - Track 53.wav  \n",
            "  inflating: /content/so-vits-svc/dataset_raw/lol/untitled - Track 54.wav  \n",
            "  inflating: /content/so-vits-svc/dataset_raw/lol/untitled - Track 55.wav  \n",
            "  inflating: /content/so-vits-svc/dataset_raw/lol/untitled - Track 56.wav  \n",
            "  inflating: /content/so-vits-svc/dataset_raw/lol/untitled - Track 57.wav  \n",
            "  inflating: /content/so-vits-svc/dataset_raw/lol/untitled - Track 58.wav  \n",
            "  inflating: /content/so-vits-svc/dataset_raw/lol/untitled - Track 59.wav  \n",
            "  inflating: /content/so-vits-svc/dataset_raw/lol/untitled - Track 6.wav  \n",
            "  inflating: /content/so-vits-svc/dataset_raw/lol/untitled - Track 60.wav  \n",
            "  inflating: /content/so-vits-svc/dataset_raw/lol/untitled - Track 7.wav  \n",
            "  inflating: /content/so-vits-svc/dataset_raw/lol/untitled - Track 8.wav  \n",
            "  inflating: /content/so-vits-svc/dataset_raw/lol/untitled - Track 9.wav  \n"
          ]
        }
      ],
      "source": [
        "#@title Загрузка датасета\n",
        "#@markdown Название архива\n",
        "DATASETNAME = \"lol\"  #@param {type:\"string\"}\n",
        "#@markdown Путь к папке (не нужно менять, если грузите по гайду)\n",
        "ZIP_PATH = \"/content/drive/MyDrive/dataset2/\"  #@param {type:\"string\"}\n",
        "ZIP_NAME = ZIP_PATH + DATASETNAME\n",
        "\n",
        "!unzip -d /content/so-vits-svc/dataset_raw {ZIP_NAME}.zip"
      ]
    },
    {
      "cell_type": "code",
      "execution_count": null,
      "metadata": {
        "cellView": "form",
        "colab": {
          "base_uri": "https://localhost:8080/"
        },
        "id": "_ThKTzYs5CfL",
        "outputId": "8490d4fb-c047-4b14-e000-a51d67277934"
      },
      "outputs": [
        {
          "output_type": "stream",
          "name": "stdout",
          "text": [
            "./dataset_raw/lol\n",
            "60it [00:01, 30.84it/s]\n",
            "100% 1/1 [00:00<00:00, 250.35it/s]\n",
            "Writing ./filelists/train.txt\n",
            "100% 56/56 [00:00<00:00, 597661.64it/s]\n",
            "Writing ./filelists/val.txt\n",
            "100% 2/2 [00:00<00:00, 56299.38it/s]\n",
            "Writing ./filelists/test.txt\n",
            "100% 2/2 [00:00<00:00, 61230.72it/s]\n",
            "Writing configs/config.json\n",
            "[60]\n",
            "Loading hubert for content...\n",
            "load model(s) from hubert/checkpoint_best_legacy_500.pt\n",
            "2023-04-30 09:01:30.324989: I tensorflow/core/platform/cpu_feature_guard.cc:182] This TensorFlow binary is optimized to use available CPU instructions in performance-critical operations.\n",
            "To enable the following instructions: AVX2 FMA, in other operations, rebuild TensorFlow with the appropriate compiler flags.\n",
            "DEBUG:tensorflow:Falling back to TensorFlow client; we recommended you install the Cloud TPU client directly with pip install cloud-tpu-client.\n",
            "2023-04-30 09:01:32.370925: W tensorflow/compiler/tf2tensorrt/utils/py_utils.cc:38] TF-TRT Warning: Could not find TensorRT\n",
            "DEBUG:h5py._conv:Creating converter from 7 to 5\n",
            "DEBUG:h5py._conv:Creating converter from 5 to 7\n",
            "DEBUG:h5py._conv:Creating converter from 7 to 5\n",
            "DEBUG:h5py._conv:Creating converter from 5 to 7\n",
            "DEBUG:jaxlib.mlir._mlir_libs:Initializing MLIR with module: _site_initialize_0\n",
            "DEBUG:jaxlib.mlir._mlir_libs:Registering dialects from initializer <module 'jaxlib.mlir._mlir_libs._site_initialize_0' from '/usr/local/lib/python3.10/dist-packages/jaxlib/mlir/_mlir_libs/_site_initialize_0.so'>\n",
            "DEBUG:jax._src.path:etils.epath found. Using etils.epath for file I/O.\n",
            "INFO:numexpr.utils:NumExpr defaulting to 2 threads.\n",
            "INFO:fairseq.tasks.text_to_speech:Please install tensorboardX: pip install tensorboardX\n",
            "INFO:fairseq.tasks.hubert_pretraining:current directory is /content/so-vits-svc\n",
            "INFO:fairseq.tasks.hubert_pretraining:HubertPretrainingTask Config {'_name': 'hubert_pretraining', 'data': 'metadata', 'fine_tuning': False, 'labels': ['km'], 'label_dir': 'label', 'label_rate': 50.0, 'sample_rate': 16000, 'normalize': False, 'enable_padding': False, 'max_keep_size': None, 'max_sample_size': 250000, 'min_sample_size': 32000, 'single_target': False, 'random_crop': True, 'pad_audio': False}\n",
            "INFO:fairseq.models.hubert.hubert:HubertModel Config: {'_name': 'hubert', 'label_rate': 50.0, 'extractor_mode': default, 'encoder_layers': 12, 'encoder_embed_dim': 768, 'encoder_ffn_embed_dim': 3072, 'encoder_attention_heads': 12, 'activation_fn': gelu, 'layer_type': transformer, 'dropout': 0.1, 'attention_dropout': 0.1, 'activation_dropout': 0.0, 'encoder_layerdrop': 0.05, 'dropout_input': 0.1, 'dropout_features': 0.1, 'final_dim': 256, 'untie_final_proj': True, 'layer_norm_first': False, 'conv_feature_layers': '[(512,10,5)] + [(512,3,2)] * 4 + [(512,2,2)] * 2', 'conv_bias': False, 'logit_temp': 0.1, 'target_glu': False, 'feature_grad_mult': 0.1, 'mask_length': 10, 'mask_prob': 0.8, 'mask_selection': static, 'mask_other': 0.0, 'no_mask_overlap': False, 'mask_min_space': 1, 'mask_channel_length': 10, 'mask_channel_prob': 0.0, 'mask_channel_selection': static, 'mask_channel_other': 0.0, 'no_mask_channel_overlap': False, 'mask_channel_min_space': 1, 'conv_pos': 128, 'conv_pos_groups': 16, 'latent_temp': [2.0, 0.5, 0.999995], 'skip_masked': False, 'skip_nomask': False, 'checkpoint_activations': False, 'required_seq_len_multiple': 2, 'depthwise_conv_kernel_size': 31, 'attn_type': '', 'pos_enc_type': 'abs', 'fp16': False}\n",
            "Loaded hubert.\n",
            "100% 60/60 [04:11<00:00,  4.19s/it]\n",
            "\u001b[0m"
          ]
        }
      ],
      "source": [
        "#@title Обработка датасета\n",
        "!python resample.py\n",
        "!python preprocess_flist_config.py\n",
        "!python preprocess_hubert_f0.py"
      ]
    },
    {
      "cell_type": "code",
      "execution_count": null,
      "metadata": {
        "cellView": "form",
        "colab": {
          "base_uri": "https://localhost:8080/"
        },
        "id": "Wo4OTmTAUXgj",
        "outputId": "eb674a9d-2994-4591-bf20-b5b4d8177b20"
      },
      "outputs": [
        {
          "output_type": "stream",
          "name": "stdout",
          "text": [
            "  adding: content/so-vits-svc/dataset/ (stored 0%)\n",
            "  adding: content/so-vits-svc/dataset/44k/ (stored 0%)\n",
            "  adding: content/so-vits-svc/dataset/44k/lol/ (stored 0%)\n",
            "  adding: content/so-vits-svc/dataset/44k/lol/untitled - Track 24.wav.soft.pt (deflated 7%)\n",
            "  adding: content/so-vits-svc/dataset/44k/lol/untitled - Track 41.wav.f0.npy (deflated 50%)\n",
            "  adding: content/so-vits-svc/dataset/44k/lol/untitled - Track 27.wav.soft.pt (deflated 7%)\n",
            "  adding: content/so-vits-svc/dataset/44k/lol/untitled - Track 9.wav (deflated 13%)\n",
            "  adding: content/so-vits-svc/dataset/44k/lol/untitled - Track 4.wav (deflated 7%)\n",
            "  adding: content/so-vits-svc/dataset/44k/lol/untitled - Track 25.wav (deflated 13%)\n",
            "  adding: content/so-vits-svc/dataset/44k/lol/untitled - Track 28.wav.f0.npy (deflated 82%)\n",
            "  adding: content/so-vits-svc/dataset/44k/lol/untitled - Track 46.wav.soft.pt (deflated 7%)\n",
            "  adding: content/so-vits-svc/dataset/44k/lol/untitled - Track 18.wav.soft.pt (deflated 7%)\n",
            "  adding: content/so-vits-svc/dataset/44k/lol/untitled - Track 34.wav.soft.pt (deflated 7%)\n",
            "  adding: content/so-vits-svc/dataset/44k/lol/untitled - Track 56.wav.soft.pt (deflated 7%)\n",
            "  adding: content/so-vits-svc/dataset/44k/lol/untitled - Track 20.wav.f0.npy (deflated 59%)\n",
            "  adding: content/so-vits-svc/dataset/44k/lol/untitled - Track 42.wav.soft.pt (deflated 7%)\n",
            "  adding: content/so-vits-svc/dataset/44k/lol/untitled - Track 5.wav (deflated 15%)\n",
            "  adding: content/so-vits-svc/dataset/44k/lol/untitled - Track 60.wav.f0.npy (deflated 60%)\n",
            "  adding: content/so-vits-svc/dataset/44k/lol/untitled - Track 45.wav.soft.pt (deflated 7%)\n",
            "  adding: content/so-vits-svc/dataset/44k/lol/untitled - Track 3.wav.soft.pt (deflated 7%)\n",
            "  adding: content/so-vits-svc/dataset/44k/lol/untitled - Track 54.wav (deflated 15%)\n",
            "  adding: content/so-vits-svc/dataset/44k/lol/untitled - Track 17.wav.f0.npy (deflated 53%)\n",
            "  adding: content/so-vits-svc/dataset/44k/lol/untitled - Track 33.wav (deflated 18%)\n",
            "  adding: content/so-vits-svc/dataset/44k/lol/untitled - Track 13.wav.f0.npy (deflated 53%)\n",
            "  adding: content/so-vits-svc/dataset/44k/lol/untitled - Track 59.wav.soft.pt (deflated 7%)\n",
            "  adding: content/so-vits-svc/dataset/44k/lol/untitled - Track 48.wav.f0.npy (deflated 48%)\n",
            "  adding: content/so-vits-svc/dataset/44k/lol/untitled - Track 22.wav.f0.npy (deflated 58%)\n",
            "  adding: content/so-vits-svc/dataset/44k/lol/untitled - Track 40.wav (deflated 19%)\n",
            "  adding: content/so-vits-svc/dataset/44k/lol/untitled - Track 40.wav.f0.npy (deflated 60%)\n",
            "  adding: content/so-vits-svc/dataset/44k/lol/untitled - Track 22.wav.soft.pt (deflated 7%)\n",
            "  adding: content/so-vits-svc/dataset/44k/lol/untitled - Track 29.wav (deflated 15%)\n",
            "  adding: content/so-vits-svc/dataset/44k/lol/untitled - Track 32.wav.soft.pt (deflated 7%)\n",
            "  adding: content/so-vits-svc/dataset/44k/lol/untitled - Track 58.wav (deflated 16%)\n",
            "  adding: content/so-vits-svc/dataset/44k/lol/untitled - Track 9.wav.soft.pt (deflated 7%)\n",
            "  adding: content/so-vits-svc/dataset/44k/lol/untitled - Track 45.wav.f0.npy (deflated 69%)\n",
            "  adding: content/so-vits-svc/dataset/44k/lol/untitled - Track 53.wav.soft.pt (deflated 7%)\n",
            "  adding: content/so-vits-svc/dataset/44k/lol/untitled - Track 5.wav.soft.pt (deflated 7%)\n",
            "  adding: content/so-vits-svc/dataset/44k/lol/untitled - Track 53.wav (deflated 16%)\n",
            "  adding: content/so-vits-svc/dataset/44k/lol/untitled - Track 7.wav.soft.pt (deflated 7%)\n",
            "  adding: content/so-vits-svc/dataset/44k/lol/untitled - Track 38.wav.f0.npy (deflated 63%)\n",
            "  adding: content/so-vits-svc/dataset/44k/lol/untitled - Track 3.wav.f0.npy (deflated 53%)\n",
            "  adding: content/so-vits-svc/dataset/44k/lol/untitled - Track 28.wav (deflated 16%)\n",
            "  adding: content/so-vits-svc/dataset/44k/lol/untitled - Track 16.wav.soft.pt (deflated 7%)\n",
            "  adding: content/so-vits-svc/dataset/44k/lol/untitled - Track 58.wav.soft.pt (deflated 7%)\n",
            "  adding: content/so-vits-svc/dataset/44k/lol/untitled - Track 26.wav.f0.npy (deflated 66%)\n",
            "  adding: content/so-vits-svc/dataset/44k/lol/untitled - Track 39.wav (deflated 17%)\n",
            "  adding: content/so-vits-svc/dataset/44k/lol/untitled - Track 50.wav.f0.npy (deflated 53%)\n",
            "  adding: content/so-vits-svc/dataset/44k/lol/untitled - Track 51.wav.soft.pt (deflated 7%)\n",
            "  adding: content/so-vits-svc/dataset/44k/lol/untitled - Track 21.wav.soft.pt (deflated 7%)\n",
            "  adding: content/so-vits-svc/dataset/44k/lol/untitled - Track 16.wav (deflated 19%)\n",
            "  adding: content/so-vits-svc/dataset/44k/lol/untitled - Track 59.wav.f0.npy (deflated 52%)\n",
            "  adding: content/so-vits-svc/dataset/44k/lol/untitled - Track 21.wav (deflated 17%)\n",
            "  adding: content/so-vits-svc/dataset/44k/lol/untitled - Track 8.wav.soft.pt (deflated 7%)\n",
            "  adding: content/so-vits-svc/dataset/44k/lol/untitled - Track 38.wav (deflated 16%)\n",
            "  adding: content/so-vits-svc/dataset/44k/lol/untitled - Track 25.wav.soft.pt (deflated 7%)\n",
            "  adding: content/so-vits-svc/dataset/44k/lol/untitled - Track 6.wav.f0.npy (deflated 54%)\n",
            "  adding: content/so-vits-svc/dataset/44k/lol/untitled - Track 34.wav.f0.npy (deflated 53%)\n",
            "  adding: content/so-vits-svc/dataset/44k/lol/untitled - Track 44.wav (deflated 18%)\n",
            "  adding: content/so-vits-svc/dataset/44k/lol/untitled - Track 42.wav (deflated 17%)\n",
            "  adding: content/so-vits-svc/dataset/44k/lol/untitled - Track 19.wav.soft.pt (deflated 7%)\n",
            "  adding: content/so-vits-svc/dataset/44k/lol/untitled - Track 55.wav (deflated 16%)\n",
            "  adding: content/so-vits-svc/dataset/44k/lol/untitled - Track 40.wav.soft.pt (deflated 7%)\n",
            "  adding: content/so-vits-svc/dataset/44k/lol/untitled - Track 8.wav.f0.npy (deflated 60%)\n",
            "  adding: content/so-vits-svc/dataset/44k/lol/untitled - Track 16.wav.f0.npy (deflated 52%)\n",
            "  adding: content/so-vits-svc/dataset/44k/lol/untitled - Track 60.wav.soft.pt (deflated 7%)\n",
            "  adding: content/so-vits-svc/dataset/44k/lol/untitled - Track 12.wav.f0.npy (deflated 50%)\n",
            "  adding: content/so-vits-svc/dataset/44k/lol/untitled - Track 30.wav.soft.pt (deflated 7%)\n",
            "  adding: content/so-vits-svc/dataset/44k/lol/untitled - Track 12.wav (deflated 10%)\n",
            "  adding: content/so-vits-svc/dataset/44k/lol/untitled - Track 19.wav.f0.npy (deflated 44%)\n",
            "  adding: content/so-vits-svc/dataset/44k/lol/untitled - Track 11.wav.soft.pt (deflated 7%)\n",
            "  adding: content/so-vits-svc/dataset/44k/lol/untitled - Track 30.wav (deflated 13%)\n",
            "  adding: content/so-vits-svc/dataset/44k/lol/untitled - Track 10.wav.f0.npy (deflated 57%)\n",
            "  adding: content/so-vits-svc/dataset/44k/lol/untitled - Track 59.wav (deflated 14%)\n",
            "  adding: content/so-vits-svc/dataset/44k/lol/untitled - Track 7.wav.f0.npy (deflated 52%)\n",
            "  adding: content/so-vits-svc/dataset/44k/lol/untitled - Track 31.wav (deflated 15%)\n",
            "  adding: content/so-vits-svc/dataset/44k/lol/untitled - Track 15.wav (deflated 17%)\n",
            "  adding: content/so-vits-svc/dataset/44k/lol/untitled - Track 2.wav.soft.pt (deflated 7%)\n",
            "  adding: content/so-vits-svc/dataset/44k/lol/untitled - Track 1.wav.soft.pt (deflated 7%)\n",
            "  adding: content/so-vits-svc/dataset/44k/lol/untitled - Track 37.wav (deflated 16%)\n",
            "  adding: content/so-vits-svc/dataset/44k/lol/untitled - Track 43.wav.soft.pt (deflated 7%)\n",
            "  adding: content/so-vits-svc/dataset/44k/lol/untitled - Track 10.wav.soft.pt (deflated 7%)\n",
            "  adding: content/so-vits-svc/dataset/44k/lol/untitled - Track 42.wav.f0.npy (deflated 53%)\n",
            "  adding: content/so-vits-svc/dataset/44k/lol/untitled - Track 41.wav (deflated 16%)\n",
            "  adding: content/so-vits-svc/dataset/44k/lol/untitled - Track 6.wav.soft.pt (deflated 7%)\n",
            "  adding: content/so-vits-svc/dataset/44k/lol/untitled - Track 14.wav (deflated 11%)\n",
            "  adding: content/so-vits-svc/dataset/44k/lol/untitled - Track 49.wav.f0.npy (deflated 50%)\n",
            "  adding: content/so-vits-svc/dataset/44k/lol/untitled - Track 52.wav.f0.npy (deflated 49%)\n",
            "  adding: content/so-vits-svc/dataset/44k/lol/untitled - Track 11.wav (deflated 14%)\n",
            "  adding: content/so-vits-svc/dataset/44k/lol/untitled - Track 39.wav.soft.pt (deflated 7%)\n",
            "  adding: content/so-vits-svc/dataset/44k/lol/untitled - Track 33.wav.f0.npy (deflated 50%)\n",
            "  adding: content/so-vits-svc/dataset/44k/lol/untitled - Track 50.wav.soft.pt (deflated 7%)\n",
            "  adding: content/so-vits-svc/dataset/44k/lol/untitled - Track 58.wav.f0.npy (deflated 55%)\n",
            "  adding: content/so-vits-svc/dataset/44k/lol/untitled - Track 3.wav (deflated 16%)\n",
            "  adding: content/so-vits-svc/dataset/44k/lol/untitled - Track 4.wav.soft.pt (deflated 7%)\n",
            "  adding: content/so-vits-svc/dataset/44k/lol/untitled - Track 26.wav.soft.pt (deflated 7%)\n",
            "  adding: content/so-vits-svc/dataset/44k/lol/untitled - Track 14.wav.f0.npy (deflated 47%)\n",
            "  adding: content/so-vits-svc/dataset/44k/lol/untitled - Track 44.wav.soft.pt (deflated 7%)\n",
            "  adding: content/so-vits-svc/dataset/44k/lol/untitled - Track 57.wav (deflated 17%)\n",
            "  adding: content/so-vits-svc/dataset/44k/lol/untitled - Track 18.wav.f0.npy (deflated 55%)\n",
            "  adding: content/so-vits-svc/dataset/44k/lol/untitled - Track 7.wav (deflated 14%)\n",
            "  adding: content/so-vits-svc/dataset/44k/lol/untitled - Track 17.wav.soft.pt (deflated 7%)\n",
            "  adding: content/so-vits-svc/dataset/44k/lol/untitled - Track 4.wav.f0.npy (deflated 41%)\n",
            "  adding: content/so-vits-svc/dataset/44k/lol/untitled - Track 5.wav.f0.npy (deflated 48%)\n",
            "  adding: content/so-vits-svc/dataset/44k/lol/untitled - Track 35.wav (deflated 14%)\n",
            "  adding: content/so-vits-svc/dataset/44k/lol/untitled - Track 54.wav.soft.pt (deflated 7%)\n",
            "  adding: content/so-vits-svc/dataset/44k/lol/untitled - Track 52.wav (deflated 14%)\n",
            "  adding: content/so-vits-svc/dataset/44k/lol/untitled - Track 26.wav (deflated 15%)\n",
            "  adding: content/so-vits-svc/dataset/44k/lol/untitled - Track 11.wav.f0.npy (deflated 46%)\n",
            "  adding: content/so-vits-svc/dataset/44k/lol/untitled - Track 24.wav.f0.npy (deflated 36%)\n",
            "  adding: content/so-vits-svc/dataset/44k/lol/untitled - Track 22.wav (deflated 13%)\n",
            "  adding: content/so-vits-svc/dataset/44k/lol/untitled - Track 43.wav.f0.npy (deflated 52%)\n",
            "  adding: content/so-vits-svc/dataset/44k/lol/untitled - Track 9.wav.f0.npy (deflated 44%)\n",
            "  adding: content/so-vits-svc/dataset/44k/lol/untitled - Track 50.wav (deflated 15%)\n",
            "  adding: content/so-vits-svc/dataset/44k/lol/untitled - Track 15.wav.soft.pt (deflated 7%)\n",
            "  adding: content/so-vits-svc/dataset/44k/lol/untitled - Track 34.wav (deflated 18%)\n",
            "  adding: content/so-vits-svc/dataset/44k/lol/untitled - Track 47.wav (deflated 16%)\n",
            "  adding: content/so-vits-svc/dataset/44k/lol/untitled - Track 37.wav.soft.pt (deflated 7%)\n",
            "  adding: content/so-vits-svc/dataset/44k/lol/untitled - Track 35.wav.f0.npy (deflated 52%)\n",
            "  adding: content/so-vits-svc/dataset/44k/lol/untitled - Track 36.wav.soft.pt (deflated 7%)\n",
            "  adding: content/so-vits-svc/dataset/44k/lol/untitled - Track 18.wav (deflated 15%)\n",
            "  adding: content/so-vits-svc/dataset/44k/lol/untitled - Track 36.wav.f0.npy (deflated 54%)\n",
            "  adding: content/so-vits-svc/dataset/44k/lol/untitled - Track 29.wav.f0.npy (deflated 51%)\n",
            "  adding: content/so-vits-svc/dataset/44k/lol/untitled - Track 41.wav.soft.pt (deflated 7%)\n",
            "  adding: content/so-vits-svc/dataset/44k/lol/untitled - Track 38.wav.soft.pt (deflated 7%)\n",
            "  adding: content/so-vits-svc/dataset/44k/lol/untitled - Track 10.wav (deflated 14%)\n",
            "  adding: content/so-vits-svc/dataset/44k/lol/untitled - Track 30.wav.f0.npy (deflated 81%)\n",
            "  adding: content/so-vits-svc/dataset/44k/lol/untitled - Track 55.wav.f0.npy (deflated 52%)\n",
            "  adding: content/so-vits-svc/dataset/44k/lol/untitled - Track 44.wav.f0.npy (deflated 52%)\n",
            "  adding: content/so-vits-svc/dataset/44k/lol/untitled - Track 21.wav.f0.npy (deflated 56%)\n",
            "  adding: content/so-vits-svc/dataset/44k/lol/untitled - Track 25.wav.f0.npy (deflated 66%)\n",
            "  adding: content/so-vits-svc/dataset/44k/lol/untitled - Track 48.wav (deflated 13%)\n",
            "  adding: content/so-vits-svc/dataset/44k/lol/untitled - Track 33.wav.soft.pt (deflated 7%)\n",
            "  adding: content/so-vits-svc/dataset/44k/lol/untitled - Track 54.wav.f0.npy (deflated 58%)\n",
            "  adding: content/so-vits-svc/dataset/44k/lol/untitled - Track 6.wav (deflated 17%)\n",
            "  adding: content/so-vits-svc/dataset/44k/lol/untitled - Track 19.wav (deflated 12%)\n",
            "  adding: content/so-vits-svc/dataset/44k/lol/untitled - Track 23.wav.f0.npy (deflated 58%)\n",
            "  adding: content/so-vits-svc/dataset/44k/lol/untitled - Track 24.wav (deflated 8%)\n",
            "  adding: content/so-vits-svc/dataset/44k/lol/untitled - Track 31.wav.soft.pt (deflated 7%)\n",
            "  adding: content/so-vits-svc/dataset/44k/lol/untitled - Track 46.wav (deflated 19%)\n",
            "  adding: content/so-vits-svc/dataset/44k/lol/untitled - Track 32.wav (deflated 16%)\n",
            "  adding: content/so-vits-svc/dataset/44k/lol/untitled - Track 14.wav.soft.pt (deflated 7%)\n",
            "  adding: content/so-vits-svc/dataset/44k/lol/untitled - Track 17.wav (deflated 14%)\n",
            "  adding: content/so-vits-svc/dataset/44k/lol/untitled - Track 37.wav.f0.npy (deflated 62%)\n",
            "  adding: content/so-vits-svc/dataset/44k/lol/untitled - Track 43.wav (deflated 17%)\n",
            "  adding: content/so-vits-svc/dataset/44k/lol/untitled - Track 56.wav (deflated 13%)\n",
            "  adding: content/so-vits-svc/dataset/44k/lol/untitled - Track 60.wav (deflated 18%)\n",
            "  adding: content/so-vits-svc/dataset/44k/lol/untitled - Track 12.wav.soft.pt (deflated 7%)\n",
            "  adding: content/so-vits-svc/dataset/44k/lol/untitled - Track 20.wav (deflated 13%)\n",
            "  adding: content/so-vits-svc/dataset/44k/lol/untitled - Track 13.wav.soft.pt (deflated 7%)\n",
            "  adding: content/so-vits-svc/dataset/44k/lol/untitled - Track 15.wav.f0.npy (deflated 65%)\n",
            "  adding: content/so-vits-svc/dataset/44k/lol/untitled - Track 23.wav.soft.pt (deflated 7%)\n",
            "  adding: content/so-vits-svc/dataset/44k/lol/untitled - Track 36.wav (deflated 15%)\n",
            "  adding: content/so-vits-svc/dataset/44k/lol/untitled - Track 51.wav.f0.npy (deflated 49%)\n",
            "  adding: content/so-vits-svc/dataset/44k/lol/untitled - Track 1.wav (deflated 16%)\n",
            "  adding: content/so-vits-svc/dataset/44k/lol/untitled - Track 1.wav.f0.npy (deflated 54%)\n",
            "  adding: content/so-vits-svc/dataset/44k/lol/untitled - Track 49.wav.soft.pt (deflated 7%)\n",
            "  adding: content/so-vits-svc/dataset/44k/lol/untitled - Track 47.wav.f0.npy (deflated 54%)\n",
            "  adding: content/so-vits-svc/dataset/44k/lol/untitled - Track 27.wav.f0.npy (deflated 57%)\n",
            "  adding: content/so-vits-svc/dataset/44k/lol/untitled - Track 8.wav (deflated 14%)\n",
            "  adding: content/so-vits-svc/dataset/44k/lol/untitled - Track 48.wav.soft.pt (deflated 7%)\n",
            "  adding: content/so-vits-svc/dataset/44k/lol/untitled - Track 13.wav (deflated 15%)\n",
            "  adding: content/so-vits-svc/dataset/44k/lol/untitled - Track 29.wav.soft.pt (deflated 7%)\n",
            "  adding: content/so-vits-svc/dataset/44k/lol/untitled - Track 53.wav.f0.npy (deflated 50%)\n",
            "  adding: content/so-vits-svc/dataset/44k/lol/untitled - Track 52.wav.soft.pt (deflated 7%)\n",
            "  adding: content/so-vits-svc/dataset/44k/lol/untitled - Track 20.wav.soft.pt (deflated 7%)\n",
            "  adding: content/so-vits-svc/dataset/44k/lol/untitled - Track 57.wav.f0.npy (deflated 59%)\n",
            "  adding: content/so-vits-svc/dataset/44k/lol/untitled - Track 2.wav.f0.npy (deflated 51%)\n",
            "  adding: content/so-vits-svc/dataset/44k/lol/untitled - Track 31.wav.f0.npy (deflated 63%)\n",
            "  adding: content/so-vits-svc/dataset/44k/lol/untitled - Track 39.wav.f0.npy (deflated 47%)\n",
            "  adding: content/so-vits-svc/dataset/44k/lol/untitled - Track 32.wav.f0.npy (deflated 53%)\n",
            "  adding: content/so-vits-svc/dataset/44k/lol/untitled - Track 47.wav.soft.pt (deflated 7%)\n",
            "  adding: content/so-vits-svc/dataset/44k/lol/untitled - Track 23.wav (deflated 18%)\n",
            "  adding: content/so-vits-svc/dataset/44k/lol/untitled - Track 57.wav.soft.pt (deflated 7%)\n",
            "  adding: content/so-vits-svc/dataset/44k/lol/untitled - Track 2.wav (deflated 14%)\n",
            "  adding: content/so-vits-svc/dataset/44k/lol/untitled - Track 56.wav.f0.npy (deflated 50%)\n",
            "  adding: content/so-vits-svc/dataset/44k/lol/untitled - Track 45.wav (deflated 15%)\n",
            "  adding: content/so-vits-svc/dataset/44k/lol/untitled - Track 35.wav.soft.pt (deflated 7%)\n",
            "  adding: content/so-vits-svc/dataset/44k/lol/untitled - Track 46.wav.f0.npy (deflated 63%)\n",
            "  adding: content/so-vits-svc/dataset/44k/lol/untitled - Track 28.wav.soft.pt (deflated 7%)\n",
            "  adding: content/so-vits-svc/dataset/44k/lol/untitled - Track 51.wav (deflated 14%)\n",
            "  adding: content/so-vits-svc/dataset/44k/lol/untitled - Track 49.wav (deflated 16%)\n",
            "  adding: content/so-vits-svc/dataset/44k/lol/untitled - Track 27.wav (deflated 13%)\n",
            "  adding: content/so-vits-svc/dataset/44k/lol/untitled - Track 55.wav.soft.pt (deflated 7%)\n"
          ]
        }
      ],
      "source": [
        "#@title Сохранение обработанного датасета\n",
        "#Compress dataset folder\n",
        "!zip -r dataset.zip /content/so-vits-svc/dataset\n",
        "#@markdown Название датасета\n",
        "dataset_name_drive = \"lol\"  #@param {type:\"string\"}\n",
        "DATASET_PATH_DRIVE = \"/content/drive/MyDrive/dataset/\" + dataset_name_drive\n",
        "!mkdir -p {DATASET_PATH_DRIVE}\n",
        "\n",
        "!cp /content/so-vits-svc/dataset.zip \"{DATASET_PATH_DRIVE}\"\n",
        "!cp configs/config.json \"{DATASET_PATH_DRIVE}\"\n",
        "!cp filelists/train.txt \"{DATASET_PATH_DRIVE}\"\n",
        "!cp filelists/val.txt \"{DATASET_PATH_DRIVE}\""
      ]
    },
    {
      "cell_type": "markdown",
      "metadata": {
        "id": "ENoH-pShel7w"
      },
      "source": [
        "# Тренировка"
      ]
    },
    {
      "cell_type": "code",
      "execution_count": null,
      "metadata": {
        "cellView": "form",
        "id": "dAzZYn0kXOxh"
      },
      "outputs": [],
      "source": [
        "#@title Загрузить обработанный датасет\n",
        "#@markdown Если вы продолжаете тренировку, то вы можете просто загрузить уже обработанный датасет с диска.\n",
        "back_up_name = \"lol\"  #@param {type:\"string\"}\n",
        "BACK_UP_DATASET_PATH = \"/content/drive/MyDrive/dataset/\" + back_up_name\n",
        "!unzip {BACK_UP_DATASET_PATH}/dataset.zip -d /\n",
        "!cp {BACK_UP_DATASET_PATH}/config.json /content/so-vits-svc/configs/config.json \n",
        "!cp {BACK_UP_DATASET_PATH}/val.txt filelists/val.txt\n",
        "!cp {BACK_UP_DATASET_PATH}/train.txt filelists/train.txt"
      ]
    },
    {
      "cell_type": "code",
      "execution_count": null,
      "metadata": {
        "cellView": "form",
        "colab": {
          "base_uri": "https://localhost:8080/"
        },
        "id": "l8J2ubh9KV5J",
        "outputId": "b7a9d63d-f353-4b15-9d2b-50008589c37f"
      },
      "outputs": [
        {
          "output_type": "stream",
          "name": "stdout",
          "text": [
            "/content/so-vits-svc\n",
            "--2023-04-30 09:07:46--  https://huggingface.co/therealvul/so-vits-svc-4.0-init/resolve/main/G_0.pth\n",
            "Resolving huggingface.co (huggingface.co)... 108.138.64.89, 108.138.64.127, 108.138.64.87, ...\n",
            "Connecting to huggingface.co (huggingface.co)|108.138.64.89|:443... connected.\n",
            "HTTP request sent, awaiting response... 302 Found\n",
            "Location: https://cdn-lfs.huggingface.co/repos/c7/21/c7214c5855c8c13ab3ad357ebc651593e9ca56b492469e678bdbda597a830f99/20a327c54e5731bed377bd38404bc32ab98e66a1b2777b0af4cc034d4d6914b0?response-content-disposition=attachment%3B+filename*%3DUTF-8%27%27G_0.pth%3B+filename%3D%22G_0.pth%22%3B&Expires=1683104416&Policy=eyJTdGF0ZW1lbnQiOlt7IlJlc291cmNlIjoiaHR0cHM6Ly9jZG4tbGZzLmh1Z2dpbmdmYWNlLmNvL3JlcG9zL2M3LzIxL2M3MjE0YzU4NTVjOGMxM2FiM2FkMzU3ZWJjNjUxNTkzZTljYTU2YjQ5MjQ2OWU2NzhiZGJkYTU5N2E4MzBmOTkvMjBhMzI3YzU0ZTU3MzFiZWQzNzdiZDM4NDA0YmMzMmFiOThlNjZhMWIyNzc3YjBhZjRjYzAzNGQ0ZDY5MTRiMD9yZXNwb25zZS1jb250ZW50LWRpc3Bvc2l0aW9uPSoiLCJDb25kaXRpb24iOnsiRGF0ZUxlc3NUaGFuIjp7IkFXUzpFcG9jaFRpbWUiOjE2ODMxMDQ0MTZ9fX1dfQ__&Signature=kI4jx6fSyPFiEMZK-4h-8arBrLwikdVdhxauIzN7jBt%7EDQdyvJ4ozpXcyGDxQ03HOu-yKFSO8qE-VIb6IIm8vPyFYuOKfJfHuCcPEEBL-HCgChHJK9MiXOt4lKh-a4asuc2AIj8sEbcPV6Twl93JcEg5CL91P1bPUWAifEGCNTaXHmnkb9%7EvJr9IwYrhH5sNBdZ2-4Y2AtSfLwh1ovvGOodV300IDX8qZ5hMPBFxI8FOWqdg%7EgO5GlDQ4JXHBIIkA1MUIM9jGSp%7EFVZcds-rJCZqgzZulN5DJdOQoig22nzB-Ejxto5aqrCf3ITxNR5LKZ37Yj%7EQgeUfAixHCa99Ww__&Key-Pair-Id=KVTP0A1DKRTAX [following]\n",
            "--2023-04-30 09:07:46--  https://cdn-lfs.huggingface.co/repos/c7/21/c7214c5855c8c13ab3ad357ebc651593e9ca56b492469e678bdbda597a830f99/20a327c54e5731bed377bd38404bc32ab98e66a1b2777b0af4cc034d4d6914b0?response-content-disposition=attachment%3B+filename*%3DUTF-8%27%27G_0.pth%3B+filename%3D%22G_0.pth%22%3B&Expires=1683104416&Policy=eyJTdGF0ZW1lbnQiOlt7IlJlc291cmNlIjoiaHR0cHM6Ly9jZG4tbGZzLmh1Z2dpbmdmYWNlLmNvL3JlcG9zL2M3LzIxL2M3MjE0YzU4NTVjOGMxM2FiM2FkMzU3ZWJjNjUxNTkzZTljYTU2YjQ5MjQ2OWU2NzhiZGJkYTU5N2E4MzBmOTkvMjBhMzI3YzU0ZTU3MzFiZWQzNzdiZDM4NDA0YmMzMmFiOThlNjZhMWIyNzc3YjBhZjRjYzAzNGQ0ZDY5MTRiMD9yZXNwb25zZS1jb250ZW50LWRpc3Bvc2l0aW9uPSoiLCJDb25kaXRpb24iOnsiRGF0ZUxlc3NUaGFuIjp7IkFXUzpFcG9jaFRpbWUiOjE2ODMxMDQ0MTZ9fX1dfQ__&Signature=kI4jx6fSyPFiEMZK-4h-8arBrLwikdVdhxauIzN7jBt%7EDQdyvJ4ozpXcyGDxQ03HOu-yKFSO8qE-VIb6IIm8vPyFYuOKfJfHuCcPEEBL-HCgChHJK9MiXOt4lKh-a4asuc2AIj8sEbcPV6Twl93JcEg5CL91P1bPUWAifEGCNTaXHmnkb9%7EvJr9IwYrhH5sNBdZ2-4Y2AtSfLwh1ovvGOodV300IDX8qZ5hMPBFxI8FOWqdg%7EgO5GlDQ4JXHBIIkA1MUIM9jGSp%7EFVZcds-rJCZqgzZulN5DJdOQoig22nzB-Ejxto5aqrCf3ITxNR5LKZ37Yj%7EQgeUfAixHCa99Ww__&Key-Pair-Id=KVTP0A1DKRTAX\n",
            "Resolving cdn-lfs.huggingface.co (cdn-lfs.huggingface.co)... 18.165.25.37, 18.165.25.2, 18.165.25.109, ...\n",
            "Connecting to cdn-lfs.huggingface.co (cdn-lfs.huggingface.co)|18.165.25.37|:443... connected.\n",
            "HTTP request sent, awaiting response... 200 OK\n",
            "Length: 180628517 (172M) [binary/octet-stream]\n",
            "Saving to: ‘logs/44k/G_0.pth’\n",
            "\n",
            "G_0.pth             100%[===================>] 172.26M  48.7MB/s    in 4.7s    \n",
            "\n",
            "2023-04-30 09:07:51 (37.0 MB/s) - ‘logs/44k/G_0.pth’ saved [180628517/180628517]\n",
            "\n",
            "--2023-04-30 09:07:58--  https://huggingface.co/therealvul/so-vits-svc-4.0-init/resolve/main/D_0.pth\n",
            "Resolving huggingface.co (huggingface.co)... 108.138.64.89, 108.138.64.127, 108.138.64.87, ...\n",
            "Connecting to huggingface.co (huggingface.co)|108.138.64.89|:443... connected.\n",
            "HTTP request sent, awaiting response... 302 Found\n",
            "Location: https://cdn-lfs.huggingface.co/repos/c7/21/c7214c5855c8c13ab3ad357ebc651593e9ca56b492469e678bdbda597a830f99/635be5c3409aaf3eec4135a1f5a771595683f3a6461ffc5bdea43441e50269a9?response-content-disposition=attachment%3B+filename*%3DUTF-8%27%27D_0.pth%3B+filename%3D%22D_0.pth%22%3B&Expires=1683094813&Policy=eyJTdGF0ZW1lbnQiOlt7IlJlc291cmNlIjoiaHR0cHM6Ly9jZG4tbGZzLmh1Z2dpbmdmYWNlLmNvL3JlcG9zL2M3LzIxL2M3MjE0YzU4NTVjOGMxM2FiM2FkMzU3ZWJjNjUxNTkzZTljYTU2YjQ5MjQ2OWU2NzhiZGJkYTU5N2E4MzBmOTkvNjM1YmU1YzM0MDlhYWYzZWVjNDEzNWExZjVhNzcxNTk1NjgzZjNhNjQ2MWZmYzViZGVhNDM0NDFlNTAyNjlhOT9yZXNwb25zZS1jb250ZW50LWRpc3Bvc2l0aW9uPSoiLCJDb25kaXRpb24iOnsiRGF0ZUxlc3NUaGFuIjp7IkFXUzpFcG9jaFRpbWUiOjE2ODMwOTQ4MTN9fX1dfQ__&Signature=DIpl-W4cMOOSVPshqJYRmidRWJslCz92w3h%7E-jvciAO7AUOMxe3PHnvsX-YrY5dOMlRtyL21al1NYNk1lGdqtzsDljWuSwSu6c-jNr66PqYsVgTG412k1rCnxi7f1YexpBQaMOGBPxm5vFfAzqzp45Xn4QjfUrqdKJ6EiPYeYtMoasQ9uGLhG-NWS0dCzOBuq8SCLSsvC3jSq3DOZT9YLJJ5EOFi1KN5XG1erPzzQPqzmvdvL6CQGGA1cXD6JhJ1FW7W0VKua0pG2WdBHHHAaHtg9l8Gn3h7zhNUXEmzuSel1L4xVw1Nz1Kll5YLkuZn36eo6uijFM6FeTvBGU4OVQ__&Key-Pair-Id=KVTP0A1DKRTAX [following]\n",
            "--2023-04-30 09:07:58--  https://cdn-lfs.huggingface.co/repos/c7/21/c7214c5855c8c13ab3ad357ebc651593e9ca56b492469e678bdbda597a830f99/635be5c3409aaf3eec4135a1f5a771595683f3a6461ffc5bdea43441e50269a9?response-content-disposition=attachment%3B+filename*%3DUTF-8%27%27D_0.pth%3B+filename%3D%22D_0.pth%22%3B&Expires=1683094813&Policy=eyJTdGF0ZW1lbnQiOlt7IlJlc291cmNlIjoiaHR0cHM6Ly9jZG4tbGZzLmh1Z2dpbmdmYWNlLmNvL3JlcG9zL2M3LzIxL2M3MjE0YzU4NTVjOGMxM2FiM2FkMzU3ZWJjNjUxNTkzZTljYTU2YjQ5MjQ2OWU2NzhiZGJkYTU5N2E4MzBmOTkvNjM1YmU1YzM0MDlhYWYzZWVjNDEzNWExZjVhNzcxNTk1NjgzZjNhNjQ2MWZmYzViZGVhNDM0NDFlNTAyNjlhOT9yZXNwb25zZS1jb250ZW50LWRpc3Bvc2l0aW9uPSoiLCJDb25kaXRpb24iOnsiRGF0ZUxlc3NUaGFuIjp7IkFXUzpFcG9jaFRpbWUiOjE2ODMwOTQ4MTN9fX1dfQ__&Signature=DIpl-W4cMOOSVPshqJYRmidRWJslCz92w3h%7E-jvciAO7AUOMxe3PHnvsX-YrY5dOMlRtyL21al1NYNk1lGdqtzsDljWuSwSu6c-jNr66PqYsVgTG412k1rCnxi7f1YexpBQaMOGBPxm5vFfAzqzp45Xn4QjfUrqdKJ6EiPYeYtMoasQ9uGLhG-NWS0dCzOBuq8SCLSsvC3jSq3DOZT9YLJJ5EOFi1KN5XG1erPzzQPqzmvdvL6CQGGA1cXD6JhJ1FW7W0VKua0pG2WdBHHHAaHtg9l8Gn3h7zhNUXEmzuSel1L4xVw1Nz1Kll5YLkuZn36eo6uijFM6FeTvBGU4OVQ__&Key-Pair-Id=KVTP0A1DKRTAX\n",
            "Resolving cdn-lfs.huggingface.co (cdn-lfs.huggingface.co)... 18.165.25.37, 18.165.25.2, 18.165.25.109, ...\n",
            "Connecting to cdn-lfs.huggingface.co (cdn-lfs.huggingface.co)|18.165.25.37|:443... connected.\n",
            "HTTP request sent, awaiting response... 200 OK\n",
            "Length: 187018591 (178M) [binary/octet-stream]\n",
            "Saving to: ‘logs/44k/D_0.pth’\n",
            "\n",
            "D_0.pth             100%[===================>] 178.35M  53.2MB/s    in 3.8s    \n",
            "\n",
            "2023-04-30 09:08:02 (46.7 MB/s) - ‘logs/44k/D_0.pth’ saved [187018591/187018591]\n",
            "\n"
          ]
        }
      ],
      "source": [
        "#@title Предварительные настройки\n",
        "Clone = \"44k\"\n",
        "%cd /content/so-vits-svc\n",
        "\n",
        "#@markdown **Сохраните файлы обученной модели в Google Drive вместо файловой системы среды выполнения colab. Вам также необходимо проверить и выполнить эту опцию при возобновлении обучения. Если у вас мало места на диске, вы можете снять этот флажок (в этом случае вы должны использовать меню файл, чтобы вручную загрузить контрольные точки модели в so-vits-svc/logs/ и скопировать последнюю контрольную точку обратно в so-vits-svc/logs/ для возобновления обучения).**\n",
        "Save_to_drive = True #@param {type:\"boolean\"}\n",
        "if Save_to_drive:\n",
        "  !rm -rf /content/so-vits-svc/logs/\"{Clone}\"\n",
        "  !mkdir -p /content/drive/MyDrive/\"{Clone}\"\n",
        "  !ln -s /content/drive/MyDrive/\"{Clone}\" /content/so-vits-svc/logs/\"{Clone}\"\n",
        "\n",
        "#@markdown **Загрузить предварительно обученую модель. НЕ ВЫПОЛНЯТЬ ПРИ ПРОДОЛЖЕНИИ ТРЕНИРОВКИ!!!**\n",
        "pre_pth = False #@param {type:\"boolean\"}\n",
        "if pre_pth:\n",
        "  !wget -O logs/\"{Clone}\"/G_0.pth -P logs/\"{Clone}\"/ https://huggingface.co/therealvul/so-vits-svc-4.0-init/resolve/main/G_0.pth\n",
        "  !wget -O logs/\"{Clone}\"/D_0.pth -P logs/\"{Clone}\"/ https://huggingface.co/therealvul/so-vits-svc-4.0-init/resolve/main/D_0.pth\n"
      ]
    },
    {
      "cell_type": "code",
      "execution_count": null,
      "metadata": {
        "cellView": "form",
        "id": "-hEFFTCfZf57"
      },
      "outputs": [],
      "source": [
        "#@title Запустить тренировку\n",
        "#@markdown **Запустить тренировку**\n",
        "Clone = \"44k\"\n",
        "\n",
        "#@markdown **Включить Tensorboard для визуализации прогресса**\n",
        "tensorboard_on = True #@param {type:\"boolean\"}\n",
        "if tensorboard_on:\n",
        "  %load_ext tensorboard\n",
        "  %tensorboard --logdir logs/\"{Clone}\"\n",
        "\n",
        "!python train.py -c configs/config.json -m \"{Clone}\"\n"
      ]
    }
  ],
  "metadata": {
    "accelerator": "GPU",
    "colab": {
      "collapsed_sections": [
        "6ulqyylzXilu",
        "k1qadJBFehMo",
        "ENoH-pShel7w"
      ],
      "provenance": [],
      "toc_visible": true,
      "include_colab_link": true
    },
    "gpuClass": "standard",
    "kernelspec": {
      "display_name": "Python 3",
      "name": "python3"
    },
    "language_info": {
      "name": "python"
    }
  },
  "nbformat": 4,
  "nbformat_minor": 0
}